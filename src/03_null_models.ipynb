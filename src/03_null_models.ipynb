{
 "cells": [
  {
   "cell_type": "markdown",
   "id": "02088781",
   "metadata": {},
   "source": [
    "# Import "
   ]
  },
  {
   "cell_type": "code",
   "execution_count": null,
   "id": "9e5ab073",
   "metadata": {},
   "outputs": [],
   "source": [
    "import numpy as np \n",
    "import pandas as pd\n",
    "import seaborn as sns\n",
    "import matplotlib.pyplot as plt\n",
    "from matplotlib.gridspec import GridSpec\n",
    "from sklearn.metrics import silhouette_samples\n",
    "from scipy.cluster.hierarchy import linkage\n",
    "\n",
    "from pathlib import Path\n"
   ]
  },
  {
   "cell_type": "code",
   "execution_count": 2,
   "id": "15ff4b95",
   "metadata": {},
   "outputs": [],
   "source": [
    "from module.data_prep import prep_foodweb_data, prep_recipe_data\n",
    "from module.fvec import bipartite_cooarray, adjacency_cooarray\n",
    "from module.null_helpers import rn_RIshuff_wrapper, rn_RCshuff_wrapper, fw_typeshuff_wrapper\n",
    "from module.graphpeeler import layer_realisation"
   ]
  },
  {
   "cell_type": "code",
   "execution_count": 3,
   "id": "a214ecf7",
   "metadata": {},
   "outputs": [],
   "source": [
    "save_things = False"
   ]
  },
  {
   "cell_type": "code",
   "execution_count": 4,
   "id": "35549a1d",
   "metadata": {},
   "outputs": [],
   "source": [
    "cwd = Path.cwd()\n"
   ]
  },
  {
   "cell_type": "markdown",
   "id": "13eadd27",
   "metadata": {},
   "source": [
    "# Food web:"
   ]
  },
  {
   "cell_type": "markdown",
   "id": "c8d5fbd9",
   "metadata": {},
   "source": [
    "Calculate the null model for:\n",
    "1. Coarsest/broadest animal categorisation in `meta_df_filtered`\n",
    "2. Finest animal categorisation in `meta_fine_df_2_filtered`\n",
    "3. Topological labelling from layer analysis."
   ]
  },
  {
   "cell_type": "code",
   "execution_count": 5,
   "id": "57cc3a5e",
   "metadata": {},
   "outputs": [],
   "source": [
    "fw_data_dir = cwd.parent / 'data' / 'foodweb'\n",
    "fw_processed_dir = fw_data_dir / 'processed'\n",
    "\n",
    "fw_fig_dir = cwd.parent / 'figures' / 'foodweb'\n"
   ]
  },
  {
   "cell_type": "code",
   "execution_count": 6,
   "id": "89638a19",
   "metadata": {},
   "outputs": [],
   "source": [
    "fw_df, meta_df_filtered, meta_fine_df_filtered, meta_fine_df_2_filtered = prep_foodweb_data()"
   ]
  },
  {
   "cell_type": "code",
   "execution_count": 7,
   "id": "e07eb614",
   "metadata": {},
   "outputs": [],
   "source": [
    "fw_data = {'fw': fw_df, 'meta_f': meta_df_filtered, 'meta_ff': meta_fine_df_filtered, 'meta_fff': meta_fine_df_2_filtered}\n",
    "\n",
    "vectors = {}\n",
    "for key in ['f', 'ff', 'fff']: # coarseness of food web animal labelling: more 'f's the finer...\n",
    "    v = pd.read_parquet(fw_processed_dir / f'{key}_vectors.parquet')\n",
    "    vectors[f'{key}_vectors'] = v"
   ]
  },
  {
   "cell_type": "code",
   "execution_count": 8,
   "id": "c64094b3",
   "metadata": {},
   "outputs": [],
   "source": [
    "mode = 'fff' # which level of coarseness in the food web animal labelling to use\n",
    "fw_meta = fw_data[f'meta_{mode}']\n",
    "fw_vectors = vectors[f'{mode}_vectors']\n",
    "\n",
    "unique_types = fw_meta['type'].unique()\n",
    "in_cols = [i + '_in' for i in unique_types]\n",
    "out_cols = [i + '_out' for i in unique_types]"
   ]
  },
  {
   "cell_type": "code",
   "execution_count": 9,
   "id": "639211e3",
   "metadata": {},
   "outputs": [],
   "source": [
    "# here: broadest and finest level of food web labelling\n",
    "master_meta_df = meta_df_filtered.join(meta_fine_df_2_filtered.set_index('node'), on='node', rsuffix='_finest')\n"
   ]
  },
  {
   "cell_type": "code",
   "execution_count": 10,
   "id": "8c0e8bd2",
   "metadata": {},
   "outputs": [],
   "source": [
    "metric = 'euclidean'\n",
    "method = 'ward'\n",
    "\n",
    "ind_to_id = fw_vectors.index.values\n",
    "# Z = linkage(fw_vectors.fillna(0).iloc[:, :-2], metric=metric, method=method) "
   ]
  },
  {
   "cell_type": "markdown",
   "id": "071b7241",
   "metadata": {},
   "source": [
    "### silhouette scores for finest and coarsest animal types:"
   ]
  },
  {
   "cell_type": "code",
   "execution_count": 11,
   "id": "5bc6981f",
   "metadata": {},
   "outputs": [
    {
     "name": "stdout",
     "output_type": "stream",
     "text": [
      "Silhouette score for correlation with finest animal type and the vector embedding:  -0.12623349253686136\n"
     ]
    }
   ],
   "source": [
    "# finest type to coarsest type\n",
    "finest_to_coarse = master_meta_df.drop_duplicates(subset=['type', 'type_finest']).set_index('type_finest')['type'].to_dict()\n",
    "# finest_to_type = master_meta_df.drop_duplicates(subset=['type', 'type_finest']).set_index('type_finest')['type'].to_dict()\n",
    "finest_type_array = master_meta_df.set_index('node').loc[ind_to_id].type_finest.tolist() # finest animal type array\n",
    "silscores = silhouette_samples(fw_vectors, labels=finest_type_array, metric='euclidean')\n",
    "\n",
    "finest_type_silscore = np.mean(silscores)\n",
    "print('Silhouette score for correlation with finest animal type and the vector embedding: ', finest_type_silscore)"
   ]
  },
  {
   "cell_type": "code",
   "execution_count": 12,
   "id": "7ee7ceee",
   "metadata": {},
   "outputs": [
    {
     "name": "stdout",
     "output_type": "stream",
     "text": [
      "Silhouette score for correlation with coarsest animal type and the vector embedding:  0.10167806514380784\n"
     ]
    }
   ],
   "source": [
    "coarse_meta_dict = master_meta_df.set_index('node').type.to_dict() # coarse labelling\n",
    "coarse_types_unique = master_meta_df.type.unique() # unique coarse labels\n",
    "ind_to_coarse = [coarse_meta_dict.get(i) for i in ind_to_id] # coarse labels for each index\n",
    "\n",
    "coarse_to_numeric =dict(zip(coarse_types_unique, [0,0,0,0,0,1,1,1,2,2,2,2,2,3,4,5,5,5,5]))\n",
    "numeric_meta_dict = dict(zip(master_meta_df.node, master_meta_df.type.apply(coarse_to_numeric.get))) # numeric labels for each animal\n",
    "coarse_type_array = [numeric_meta_dict.get(i) for i in ind_to_id] # coarse labels for each index\n",
    "\n",
    "silscores = silhouette_samples(fw_vectors, labels=coarse_type_array, metric='euclidean')\n",
    "coarse_type_silscore = np.mean(silscores)\n",
    "print('Silhouette score for correlation with coarsest animal type and the vector embedding: ', coarse_type_silscore)"
   ]
  },
  {
   "cell_type": "code",
   "execution_count": 13,
   "id": "2583d82e",
   "metadata": {},
   "outputs": [],
   "source": [
    "master_meta_df['numeric'] = master_meta_df['type'].apply(coarse_to_numeric.get)\n",
    "finest_to_coarse = master_meta_df.drop_duplicates(subset=['type_finest', 'numeric']).set_index('type_finest')['numeric'].to_dict()\n"
   ]
  },
  {
   "cell_type": "markdown",
   "id": "16a6e808",
   "metadata": {},
   "source": [
    "## Graph peeler for stratifying the food web\n"
   ]
  },
  {
   "cell_type": "code",
   "execution_count": 14,
   "id": "59229179",
   "metadata": {},
   "outputs": [],
   "source": [
    "\n",
    "prep_for_peeling = fw_df.copy(True)\n",
    "prep_for_peeling['weight'] = 1\n",
    "prep_for_peeling.columns = ['pre', 'post', 'weight']\n",
    "\n",
    "start_ids = list(set(prep_for_peeling.pre.unique()) - set(prep_for_peeling.post.unique()))\n",
    "\n",
    "postId = prep_for_peeling['post'].values\n",
    "preId = prep_for_peeling['pre'].values\n",
    "in_strengths = prep_for_peeling.groupby('post').weight.sum().to_dict()\n",
    "out_strengths = prep_for_peeling.groupby('pre').weight.sum().to_dict()\n",
    "\n",
    "weights = prep_for_peeling['weight'].values\n",
    "\n",
    "# weight of edges as a proportion of their strength:\n",
    "prep_for_peeling['in_prop_weight'] = [weights[i]/in_strengths.get(postId[i]) for i in range(len(prep_for_peeling))] \n",
    "prep_for_peeling['out_prop_weight'] = [weights[i]/out_strengths.get(preId[i]) for i in range(len(prep_for_peeling))]\n",
    "\n",
    "# out-strength as a proportion of the total in and out strength:\n",
    "out_strength_prop = {i : out_strengths.get(i, 0)/(in_strengths.get(i, 0) + out_strengths.get(i, 0)) for i in ind_to_id}\n",
    "\n",
    "prep_for_peeling['in_div_out_prop_weight'] = [weights[i]*out_strength_prop[postId[i]]/in_strengths.get(postId[i]) for i in range(len(prep_for_peeling))]\n",
    "\n",
    "postId = prep_for_peeling['post'].values\n",
    "preId = prep_for_peeling['pre'].values\n",
    "in_strengths = prep_for_peeling.groupby('post').weight.sum().to_dict()\n",
    "out_strengths = prep_for_peeling.groupby('pre').weight.sum().to_dict()\n",
    "\n",
    "weights = prep_for_peeling['weight'].values\n",
    "\n",
    "# weight of edges as a proportion of their strength:\n",
    "prep_for_peeling['in_prop_weight'] = [weights[i]/in_strengths.get(postId[i]) for i in range(len(prep_for_peeling))] \n",
    "prep_for_peeling['out_prop_weight'] = [weights[i]/out_strengths.get(preId[i]) for i in range(len(prep_for_peeling))]\n",
    "\n",
    "# out-strength as a proportion of the total in and out strength:\n",
    "out_strength_prop = {i : out_strengths.get(i, 0)/(in_strengths.get(i, 0) + out_strengths.get(i, 0)) for i in ind_to_id}"
   ]
  },
  {
   "cell_type": "code",
   "execution_count": 15,
   "id": "8b74550b",
   "metadata": {},
   "outputs": [],
   "source": [
    "N=1000\n",
    "d_layers = []\n",
    "for i in range(N): \n",
    "    nth_r = layer_realisation(df=prep_for_peeling,\n",
    "                              start_ids=start_ids,\n",
    "                              correction=1, \n",
    "                              N=np.inf, \n",
    "                              seed=i, \n",
    "                              prepost='pre', \n",
    "                              prop_weight='in_prop_weight')\n",
    "    id_to_layer = {}\n",
    "    for key, val in nth_r.items():\n",
    "        for id in val:\n",
    "            id_to_layer[id] = key\n",
    "    d_layers.append(pd.Series(id_to_layer, name=f'r_{i}'))\n",
    "\n",
    "d_layer_df = pd.concat(d_layers, axis=1)\n",
    "d_colname = f'm_ds_layer'\n",
    "d_layer_df[d_colname] = d_layer_df.mean(axis=1).sort_values()#.round(0).astype(int) # take the mean layer across all the runs\n",
    "d_layer_df.index.names=['id']\n",
    "d_layer_df = d_layer_df[[d_colname]]"
   ]
  },
  {
   "cell_type": "markdown",
   "id": "b7e0c15c",
   "metadata": {},
   "source": [
    "### topological layer silhouette score"
   ]
  },
  {
   "cell_type": "code",
   "execution_count": 16,
   "id": "1f178885",
   "metadata": {},
   "outputs": [],
   "source": [
    "test_df = fw_vectors #all_ff_vectors.iloc[:,:-2].fillna(0)\n",
    "\n",
    "layer_dict = d_layer_df[d_colname].round().astype(int).to_dict()\n",
    "# layer_dict = ((d_layer_df['m_ds_layer'] * 2).round() / 2).astype(int).to_dict() # stratify network into layers of multiple 0.5\n",
    "\n",
    "animal_layer_array = [str(layer_dict.get(i)) for i in ind_to_id]\n",
    "# animal_type_array = fw_label_meta.set_index('node').loc[ind_to_id].type.tolist()\n",
    "# numeric_type_array = [str(numeric_meta_dict.get(i)) for i in ind_to_id]\n",
    "\n",
    "# combined_arr = [animal_layer_array[i] + '_' + str(coarse_type_array[i]) for i in range(len(ind_to_id))] # combination of labels...\n",
    "\n",
    "test_arr = animal_layer_array # coarse_type_array\n",
    "\n",
    "# animal_type_array = meta_finest_df.set_index('id').loc[ind_to_id].type.tolist()\n",
    "silscores = silhouette_samples(test_df.loc[ind_to_id], labels=test_arr, metric='euclidean')\n",
    "\n",
    "layer_test_silscore = np.mean(silscores)"
   ]
  },
  {
   "cell_type": "code",
   "execution_count": 18,
   "id": "3be5f61f",
   "metadata": {},
   "outputs": [
    {
     "name": "stdout",
     "output_type": "stream",
     "text": [
      "Silhouette score for correlation with topological layer and the vector embedding in food web:  0.1166300174249245\n"
     ]
    }
   ],
   "source": [
    "\n",
    "print('Silhouette score for correlation with topological layer and the vector embedding in food web: ', layer_test_silscore)"
   ]
  },
  {
   "cell_type": "code",
   "execution_count": 19,
   "id": "4d1c95d7",
   "metadata": {},
   "outputs": [],
   "source": [
    "a_AA_coo, _ = adjacency_cooarray(df=fw_df, row_col=['prey', 'predator'], id_order=ind_to_id, weight=False, directed=True)\n"
   ]
  },
  {
   "cell_type": "code",
   "execution_count": 20,
   "id": "de37fcb5",
   "metadata": {},
   "outputs": [],
   "source": [
    "seeds = np.arange(1000)\n",
    "# toconcat = []\n",
    "coarse_null_silscores = []\n",
    "layer_null_silscores = []\n",
    "finest_null_silscores = []\n",
    "for seed in seeds:\n",
    "    shuff_all_norm_vec_df, meta_finest_shuff = fw_typeshuff_wrapper(seed, fw_meta, ind_to_id, a_AA_coo)\n",
    "\n",
    "    # shuff_animal_type_array = meta_finest_shuff['node'].apply(lambda x: numeric_meta_dict[x]).values # this is identity preserving numeric type array\n",
    "    shuff_animal_type_array = meta_finest_shuff['type'].apply(lambda x: finest_to_coarse[x]).values # this is identity consistent numeric type array\n",
    "    shuff_finest_type_array = meta_finest_shuff.set_index('node').loc[ind_to_id].type.tolist() # finest animal type array\n",
    "\n",
    "    coarse_shuff_silscores = silhouette_samples(shuff_all_norm_vec_df.loc[ind_to_id].fillna(0), labels=shuff_animal_type_array, metric='euclidean')\n",
    "    finest_shuff_silscores = silhouette_samples(shuff_all_norm_vec_df.loc[ind_to_id].fillna(0), labels=shuff_finest_type_array, metric='euclidean')\n",
    "    layer_shuff_silscores = silhouette_samples(shuff_all_norm_vec_df.loc[ind_to_id].fillna(0), labels=animal_layer_array, metric='euclidean') # identity preserving: layers don't change...\n",
    "\n",
    "    coarse_null_silscores.append(np.mean(coarse_shuff_silscores))\n",
    "    layer_null_silscores.append(np.mean(layer_shuff_silscores))\n",
    "    finest_null_silscores.append(np.mean(finest_shuff_silscores))\n"
   ]
  },
  {
   "cell_type": "code",
   "execution_count": 21,
   "id": "1ad45f03",
   "metadata": {},
   "outputs": [
    {
     "data": {
      "image/png": "[encoded data removed]",
      "text/plain": [
       "<Figure size 300x300 with 1 Axes>"
      ]
     },
     "metadata": {},
     "output_type": "display_data"
    }
   ],
   "source": [
    "output = np.histogram(finest_null_silscores, bins=20)\n",
    "num_significant = sum(np.array(finest_null_silscores) > finest_type_silscore)\n",
    "if num_significant > 0:\n",
    "    pbound = num_significant/len(seeds)\n",
    "else:\n",
    "    pbound = 1/len(seeds)\n",
    "\n",
    "    # pbound = output[0][-1]/len(seeds)\n",
    "ys = np.arange(10)\n",
    "\n",
    "fig, ax = plt.subplots(1,1, figsize=(3,3 ))\n",
    "\n",
    "ax.hist(finest_null_silscores, color='grey', fill=True, density=True, bins=20, label='null')\n",
    "plt.xlabel('Silhouette Score', size=20)\n",
    "plt.ylabel('Density', size=20)\n",
    "plt.plot([finest_type_silscore for y in ys], ys, 'r--')\n",
    "addtext = f'$s={finest_type_silscore:.2f}$\\n $p < {pbound}$'\n",
    "plt.text(finest_type_silscore, ys[-1], addtext, horizontalalignment='right', \\\n",
    "         verticalalignment='bottom', color='red', size=15, \n",
    "         bbox=dict(boxstyle=\"round\",\n",
    "                   fc=(1, 1, 1, 0.5),\n",
    "                   ec=(1,1,1,0)\n",
    "                   ))\n",
    "ax.set_xticks([-0.5, -0.4, -0.3, -0.2,  -0.1])\n",
    "\n",
    "sns.despine(offset=3, trim=True)\n",
    "plt.legend(prop={'size':13})\n",
    "if save_things:\n",
    "    plt.savefig(fw_fig_dir / f's_fw_silhouette_nulls.png', dpi=300, bbox_inches='tight', transparent=True)\n",
    "    plt.savefig(fw_fig_dir / f's_fw_silhouette_nulls.pdf', dpi=300, bbox_inches='tight', transparent=True)\n",
    "\n",
    "plt.show()"
   ]
  },
  {
   "cell_type": "code",
   "execution_count": 22,
   "id": "a5e81e9e",
   "metadata": {},
   "outputs": [
    {
     "data": {
      "image/png": "[encoded data removed]",
      "text/plain": [
       "<Figure size 300x500 with 2 Axes>"
      ]
     },
     "metadata": {},
     "output_type": "display_data"
    }
   ],
   "source": [
    "fig = plt.figure(figsize=(3, 5))\n",
    "\n",
    "gs = GridSpec(2, 1, figure=fig, height_ratios=[1, 1], hspace=0.4, )\n",
    "ax1 = fig.add_subplot(gs[0, 0])\n",
    "ax2 = fig.add_subplot(gs[1, 0])\n",
    "\n",
    "for nulls, test_score, xranges, ax, title, in zip([coarse_null_silscores, layer_null_silscores], \n",
    "                                      [coarse_type_silscore, layer_test_silscore], \n",
    "                                      [[-.2, -.1, 0., .1], [ 0, 0.05, 0.1, 0.15]], \n",
    "                                      [ax1, ax2],\n",
    "                                      ['Coarse animal type', 'Topological layer']):\n",
    "\n",
    "    output = np.histogram(nulls, bins=20)\n",
    "    num_significant = sum(np.array(nulls) > test_score)\n",
    "    if num_significant > 0:\n",
    "        pbound = num_significant/len(seeds)\n",
    "    else:\n",
    "        pbound = 1/len(seeds)\n",
    "\n",
    "    ys = np.arange(10)\n",
    "    ax.hist(nulls, color='grey', fill=True, density=True, bins=20, label='null')\n",
    "    \n",
    "    ax.plot([test_score for y in ys], ys, 'r--', label='data')\n",
    "    # addtext = f'$s={test_score:.2f}$\\n$p < {pbound}$'\n",
    "    addtext = rf'$p < {pbound}$'\n",
    "\n",
    "    ax.text(test_score, ys[-1], addtext, horizontalalignment='center', \\\n",
    "            verticalalignment='bottom', color='red', size=15, \n",
    "            bbox=dict(boxstyle=\"round\",\n",
    "                    fc=(1, 1, 1, 0.5),\n",
    "                    ec=(1,1,1,0)\n",
    "                    ))\n",
    "    ax.set_xticks(xranges)\n",
    "    ax.tick_params(axis='x', labelsize=15)\n",
    "    ax.tick_params(axis='y', labelsize=15)\n",
    "\n",
    "    sns.despine(offset=3, trim=True, ax=ax)\n",
    "ax2.set_xlabel('Silhouette Score', size=20)\n",
    "ax2.legend(prop={'size':17}, bbox_to_anchor=(0.9, 0.9), loc='center')\n",
    "fig.text(0.04, 0.5, 'Density', va='center', rotation='vertical', fontsize=20)\n",
    "plt.subplots_adjust(left=0.25, hspace=0.1)\n",
    "if save_things:\n",
    "    plt.savefig(fw_fig_dir / f'f1d_fw_silhouette_nulls.png', dpi=300, bbox_inches='tight', transparent=True)\n",
    "    plt.savefig(fw_fig_dir / 'f1d_fw_silhouette_nulls.pdf', dpi=300, bbox_inches='tight', transparent=True)\n",
    "plt.show()"
   ]
  },
  {
   "cell_type": "code",
   "execution_count": 23,
   "id": "d6050d73",
   "metadata": {},
   "outputs": [],
   "source": [
    "# fig = plt.figure(figsize=(7, 3))\n",
    "\n",
    "# gs = GridSpec(1, 2, figure=fig, width_ratios=[1, 1], wspace=0.4)\n",
    "# ax1 = fig.add_subplot(gs[0, 0])\n",
    "# ax2 = fig.add_subplot(gs[0, 1])\n",
    "\n",
    "# for nulls, test_score, xranges, ax, title, label in zip([finest_null_silscores, layer_null_silscores], \n",
    "#                                       [finest_type_silscore, layer_test_silscore], \n",
    "#                                       [[-0.5, -0.4, -0.3, -0.2,  -0.1], [ 0, 0.05, 0.1, 0.15]], \n",
    "#                                       [ax1, ax2],\n",
    "#                                       ['Finest animal type', 'Topological layer'], ['A', 'B']):\n",
    "#     # ax.text(0, 1, label, transform=ax.transAxes, fontsize=20, fontweight='bold', va='bottom',  ha='right')\n",
    "\n",
    "#     output = np.histogram(nulls, bins=20)\n",
    "#     num_significant = sum(np.array(nulls) > test_score)\n",
    "#     if num_significant > 0:\n",
    "#         pbound = num_significant/len(seeds)\n",
    "#     else:\n",
    "#         pbound = 1/len(seeds)\n",
    "\n",
    "#         # pbound = output[0][-1]/len(seeds)\n",
    "#     ys = np.arange(10)\n",
    "#     ax.set_title(title, size=15)\n",
    "#     ax.hist(nulls, color='grey', fill=True, density=True, bins=20, label='null')\n",
    "#     ax.set_xlabel('Silhouette Score', size=20)\n",
    "#     ax.set_ylabel('Density', size=20)\n",
    "#     ax.plot([test_score for y in ys], ys, 'r--')\n",
    "#     addtext = f'$s={test_score:.2f}$\\n$p < {pbound}$'\n",
    "#     ax.text(test_score, ys[-1], addtext, horizontalalignment='right', \\\n",
    "#             verticalalignment='bottom', color='red', size=15, \n",
    "#             bbox=dict(boxstyle=\"round\",\n",
    "#                     fc=(1, 1, 1, 0.5),\n",
    "#                     ec=(1,1,1,0)\n",
    "#                     ))\n",
    "#     ax.set_xticks(xranges)\n",
    "\n",
    "#     sns.despine(offset=3, trim=True, ax=ax)\n",
    "#     ax.legend(prop={'size':13})\n",
    "# # save_things=False\n",
    "# if save_things:\n",
    "#     plt.savefig(f'{fw_save_dir}/s_fw_silhouette_nulls.png', dpi=300, bbox_inches='tight')\n",
    "#     plt.savefig(f'{fw_save_dir}/s_fw_silhouette_nulls.pdf', dpi=300, bbox_inches='tight')\n",
    "# plt.show()"
   ]
  },
  {
   "cell_type": "markdown",
   "id": "2751bafd",
   "metadata": {},
   "source": [
    "# Recipe network:"
   ]
  },
  {
   "cell_type": "code",
   "execution_count": 24,
   "id": "166d06d3",
   "metadata": {},
   "outputs": [],
   "source": [
    "\n",
    "rn_data_dir = cwd.parent / 'data' / 'recipe'\n",
    "rn_processed_dir = rn_data_dir / 'processed'\n",
    "\n",
    "rn_fig_dir = cwd.parent / 'figures' / 'recipe'\n"
   ]
  },
  {
   "cell_type": "code",
   "execution_count": 25,
   "id": "c143f296",
   "metadata": {},
   "outputs": [],
   "source": [
    "rn_df, meta_df = prep_recipe_data()\n",
    "cuisine_list = meta_df.cuisine.dropna().unique()\n",
    "recipe_list = rn_df.r_id.dropna().unique()\n",
    "\n",
    "ingredient_list = list(set(rn_df.ingredient.dropna().unique()) - {''})\n",
    "rn_df = rn_df[rn_df['ingredient'].isin(ingredient_list)].reset_index(drop=True)"
   ]
  },
  {
   "cell_type": "code",
   "execution_count": 26,
   "id": "c3077ae1",
   "metadata": {},
   "outputs": [],
   "source": [
    "cs_i_vectors = pd.read_parquet( rn_processed_dir / 'cs_i_vectors.parquet')\n",
    "is_c_vectors = pd.read_parquet(rn_processed_dir / 'is_c_vectors.parquet')"
   ]
  },
  {
   "cell_type": "markdown",
   "id": "fb5d0d72",
   "metadata": {},
   "source": [
    "## ingredient type evaluation"
   ]
  },
  {
   "cell_type": "code",
   "execution_count": 27,
   "id": "fdd300f5",
   "metadata": {},
   "outputs": [],
   "source": [
    "metric = 'euclidean'\n",
    "method = 'ward'\n",
    "ind_to_id = np.array(ingredient_list)\n",
    "\n",
    "Z = linkage(cs_i_vectors.loc[ingredient_list, cuisine_list], metric=metric, method=method) ####### linkage\n"
   ]
  },
  {
   "cell_type": "code",
   "execution_count": 28,
   "id": "51130357",
   "metadata": {},
   "outputs": [],
   "source": [
    "ing_categories = pd.read_csv(rn_data_dir / 'foodtype_categorised.csv')\n",
    "# ing_categories = ing_categories.iloc[:, :2]\n",
    "# remove = set(ing_categories.Ingredient) - set(rn_df.ingredient.unique()) \n",
    "# ing_categories = ing_categories[~ing_categories.Ingredient.isin(remove)]\n",
    "# ing_categories.Category = ing_categories.Category.str.lower()\n",
    "# ing_categories.to_csv('../data/recipe/foodtype_categorised_2.csv', index=False)"
   ]
  },
  {
   "cell_type": "code",
   "execution_count": null,
   "id": "6798d59e",
   "metadata": {},
   "outputs": [],
   "source": []
  },
  {
   "cell_type": "code",
   "execution_count": 29,
   "id": "09940e4d",
   "metadata": {},
   "outputs": [],
   "source": [
    "ingredient_type_dict = ing_categories.set_index('Ingredient').Category.to_dict()\n",
    "sil_labels = [ingredient_type_dict.get(i) for i in ingredient_list]"
   ]
  },
  {
   "cell_type": "code",
   "execution_count": 30,
   "id": "78efa3a8",
   "metadata": {},
   "outputs": [],
   "source": [
    "sample_sils = silhouette_samples(cs_i_vectors.loc[ingredient_list], \\\n",
    "                                 metric=metric, labels=sil_labels)"
   ]
  },
  {
   "cell_type": "code",
   "execution_count": 31,
   "id": "7b2cf56c",
   "metadata": {},
   "outputs": [
    {
     "data": {
      "text/plain": [
       "[('oak', np.float64(-0.6025143814273886)),\n",
       " ('fennel', np.float64(-0.5509401978682218)),\n",
       " ('seed', np.float64(-0.5435673587217167)),\n",
       " ('pine', np.float64(-0.5382199649983637)),\n",
       " ('almond', np.float64(-0.506246090276574)),\n",
       " ('milk', np.float64(-0.504969233091754)),\n",
       " ('beef', np.float64(-0.4859863985086866)),\n",
       " ('meat', np.float64(-0.4843591819565179)),\n",
       " ('chicken', np.float64(-0.48285983578254926)),\n",
       " ('cream', np.float64(-0.4676527267854257)),\n",
       " ('cheese', np.float64(-0.4597173465807396)),\n",
       " ('chicory', np.float64(-0.44846135609046806)),\n",
       " ('cream_cheese', np.float64(-0.4409054435232836)),\n",
       " ('pork', np.float64(-0.43272825150109523)),\n",
       " ('juniper_berry', np.float64(-0.4311257842407914)),\n",
       " ('pecan', np.float64(-0.42884481629439153)),\n",
       " ('shrimp', np.float64(-0.41668172910636125)),\n",
       " ('bread', np.float64(-0.413449499167338)),\n",
       " ('orange_flower', np.float64(-0.4072927780376146)),\n",
       " ('rose', np.float64(-0.40723783031817107)),\n",
       " ('lamb', np.float64(-0.4029580673887962)),\n",
       " ('orange', np.float64(-0.39930997425743375)),\n",
       " ('corn', np.float64(-0.3988769882399185)),\n",
       " ('fir', np.float64(-0.395215578660279)),\n",
       " ('veal', np.float64(-0.39510720093354246)),\n",
       " ('cherry', np.float64(-0.39126147251113047)),\n",
       " ('jasmine', np.float64(-0.3907794735719811)),\n",
       " ('ham', np.float64(-0.3891851012465648)),\n",
       " ('peanut', np.float64(-0.38883880136558624)),\n",
       " ('bean', np.float64(-0.3862324617021611)),\n",
       " ('pear', np.float64(-0.38082243644246405)),\n",
       " ('plum', np.float64(-0.3808202246304085)),\n",
       " ('lemon', np.float64(-0.3785505836790597)),\n",
       " ('hazelnut', np.float64(-0.37493379161688567)),\n",
       " ('turkey', np.float64(-0.3709570952132856)),\n",
       " ('pea', np.float64(-0.37093684526218884)),\n",
       " ('grape', np.float64(-0.3701161201333618)),\n",
       " ('seaweed', np.float64(-0.36482739510014317)),\n",
       " ('bacon', np.float64(-0.36466185828204517)),\n",
       " ('vinegar', np.float64(-0.35709119199952866)),\n",
       " ('cod', np.float64(-0.3468900213234785)),\n",
       " ('olive_oil', np.float64(-0.3464336113023727)),\n",
       " ('banana', np.float64(-0.34629250407996687)),\n",
       " ('coriander', np.float64(-0.3447322587907356)),\n",
       " ('ale', np.float64(-0.3443339253776933)),\n",
       " ('parsley', np.float64(-0.3441846542801739)),\n",
       " ('mustard', np.float64(-0.34347053216954493)),\n",
       " ('vegetable_oil', np.float64(-0.3405266042311116)),\n",
       " ('chive', np.float64(-0.34008394952059073)),\n",
       " ('white_bread', np.float64(-0.33785668597376706)),\n",
       " ('grapefruit', np.float64(-0.3358339783458909)),\n",
       " ('roasted_peanut', np.float64(-0.33520872026350046)),\n",
       " ('rum', np.float64(-0.335025960988941)),\n",
       " ('white_fish', np.float64(-0.3349846800207507)),\n",
       " ('lily', np.float64(-0.3347073069168742)),\n",
       " ('blue_cheese', np.float64(-0.33410521652464426)),\n",
       " ('white_wine', np.float64(-0.3339006388318639)),\n",
       " ('oil', np.float64(-0.3315907947964076)),\n",
       " ('egg_noodles', np.float64(-0.3310727245491315)),\n",
       " ('lima_bean', np.float64(-0.32989466160507014)),\n",
       " ('gardenia', np.float64(-0.3262511005627769)),\n",
       " ('parmesan_cheese', np.float64(-0.324355935616846)),\n",
       " ('pineapple', np.float64(-0.3236676800342926)),\n",
       " ('honey', np.float64(-0.3235455386705483)),\n",
       " ('chicken_broth', np.float64(-0.3213633933604098)),\n",
       " ('wood', np.float64(-0.3202084623928366)),\n",
       " ('palm', np.float64(-0.3196027002290965)),\n",
       " ('bay', np.float64(-0.31935957924959313)),\n",
       " ('cheddar_cheese', np.float64(-0.31770058262202194)),\n",
       " ('whole_grain', np.float64(-0.316609300985715)),\n",
       " ('coffee', np.float64(-0.3150479796274569)),\n",
       " ('thyme', np.float64(-0.31427355727664213)),\n",
       " ('olive', np.float64(-0.31380059643453984)),\n",
       " ('barley', np.float64(-0.31344465530396487)),\n",
       " ('crab', np.float64(-0.30810541500314637)),\n",
       " ('fig', np.float64(-0.30719696494117443)),\n",
       " ('cider', np.float64(-0.30617124627680575)),\n",
       " ('apricot', np.float64(-0.30303139111731037)),\n",
       " ('tangerine', np.float64(-0.3028424302302046)),\n",
       " ('seal', np.float64(-0.29988033902137173)),\n",
       " ('vanilla', np.float64(-0.2994619687362554)),\n",
       " ('red_wine', np.float64(-0.2987334554459168)),\n",
       " ('lime', np.float64(-0.29870154904516716)),\n",
       " ('apple', np.float64(-0.29836890779215447)),\n",
       " ('haddock', np.float64(-0.2959761122073606)),\n",
       " ('strawberry', np.float64(-0.295698587508625)),\n",
       " ('romano_cheese', np.float64(-0.29404837423096963)),\n",
       " ('sage', np.float64(-0.2928085629209681)),\n",
       " ('peach', np.float64(-0.2895594220298376)),\n",
       " ('salmon', np.float64(-0.28768030452686705)),\n",
       " ('buttermilk', np.float64(-0.28550062369168205)),\n",
       " ('chocolate', np.float64(-0.28540982566990436)),\n",
       " ('chicken_liver', np.float64(-0.28435312494462295)),\n",
       " ('lavender', np.float64(-0.2842927832321567)),\n",
       " ('rosemary', np.float64(-0.2842830943880886)),\n",
       " ('mint', np.float64(-0.2821043096999188)),\n",
       " ('pork_sausage', np.float64(-0.28063143037195365)),\n",
       " ('oregano', np.float64(-0.28032128082228874)),\n",
       " ('sour_cherry', np.float64(-0.2796011782291906)),\n",
       " ('brown_rice', np.float64(-0.27905107946563434)),\n",
       " ('cottage_cheese', np.float64(-0.2768769087228648)),\n",
       " ('mango', np.float64(-0.27670636096307927)),\n",
       " ('beech', np.float64(-0.27538258412780336)),\n",
       " ('ruta', np.float64(-0.27432046479010574)),\n",
       " ('raspberry', np.float64(-0.27335615645363603)),\n",
       " ('spike', np.float64(-0.27112534741548994)),\n",
       " ('roast_beef', np.float64(-0.2710382258192496)),\n",
       " ('date', np.float64(-0.2666281341651078)),\n",
       " ('melon', np.float64(-0.26649670131394804)),\n",
       " ('marjoram', np.float64(-0.2635223970659541)),\n",
       " ('apple_cider', np.float64(-0.26242004298352584)),\n",
       " ('corn_flakes', np.float64(-0.2599869082644752)),\n",
       " ('verbena', np.float64(-0.25720985759619747)),\n",
       " ('mandarin', np.float64(-0.256795377560012)),\n",
       " ('cocoa', np.float64(-0.2526100589783936)),\n",
       " ('citrus', np.float64(-0.25259635911532347)),\n",
       " ('dill', np.float64(-0.25039867818917344)),\n",
       " ('mate', np.float64(-0.24945845703131433)),\n",
       " ('tea', np.float64(-0.24833086712682145)),\n",
       " ('catfish', np.float64(-0.2449983980965039)),\n",
       " ('tarragon', np.float64(-0.2443929348876181)),\n",
       " ('currant', np.float64(-0.2428106612942592)),\n",
       " ('blackberry', np.float64(-0.23775297337068974)),\n",
       " ('pepper', np.float64(-0.23413436835914822)),\n",
       " ('cashew_nut', np.float64(-0.23411065671271272)),\n",
       " ('kumquat', np.float64(-0.23377721773934934)),\n",
       " ('malt', np.float64(-0.2333548777191969)),\n",
       " ('sake', np.float64(-0.23152101969912076)),\n",
       " ('green_tea', np.float64(-0.2306359539608737)),\n",
       " ('basil', np.float64(-0.23016963082586325)),\n",
       " ('chamomile', np.float64(-0.22742239911902568)),\n",
       " ('rapeseed', np.float64(-0.227263828842444)),\n",
       " ('gelatin', np.float64(-0.22382916426392327)),\n",
       " ('fish', np.float64(-0.2226603400728344)),\n",
       " ('dairy', np.float64(-0.22103397142011236)),\n",
       " ('egg', np.float64(-0.21826077470019675)),\n",
       " ('quince', np.float64(-0.21671237761373907)),\n",
       " ('clove', np.float64(-0.21597840035736615)),\n",
       " ('sunflower_oil', np.float64(-0.2153234800370309)),\n",
       " ('grilled_beef', np.float64(-0.2119599620212549)),\n",
       " ('red_currant', np.float64(-0.21102285948946894)),\n",
       " ('brandy', np.float64(-0.2108849953406372)),\n",
       " ('butter', np.float64(-0.20523365455689127)),\n",
       " ('smoked_sausage', np.float64(-0.20226312607587846)),\n",
       " ('kidney_bean', np.float64(-0.20010003290741338)),\n",
       " ('sturgeon_caviar', np.float64(-0.19966913812290937)),\n",
       " ('black_pepper', np.float64(-0.19796693606732338)),\n",
       " ('sherry', np.float64(-0.19789592819685187)),\n",
       " ('beef_broth', np.float64(-0.19737999166412476)),\n",
       " ('watermelon', np.float64(-0.1957563948635851)),\n",
       " ('avocado', np.float64(-0.19448510115511455)),\n",
       " ('cured_ham', np.float64(-0.1912395675421136)),\n",
       " ('smoked_fish', np.float64(-0.19094442641523082)),\n",
       " ('cranberry', np.float64(-0.1900807190417671)),\n",
       " ('coal', np.float64(-0.18929471870301626)),\n",
       " ('kiwi', np.float64(-0.1853657786039732)),\n",
       " ('sherry_wine', np.float64(-0.18278490636201392)),\n",
       " ('violet', np.float64(-0.18067686784801373)),\n",
       " ('caviar', np.float64(-0.1789640987723344)),\n",
       " ('passion_fruit', np.float64(-0.17805459590736258)),\n",
       " ('angelica', np.float64(-0.17720003403030335)),\n",
       " ('mentha', np.float64(-0.17585537033094092)),\n",
       " ('rue', np.float64(-0.17585537033094092)),\n",
       " ('lard', np.float64(-0.17524162554209685)),\n",
       " ('popcorn', np.float64(-0.174056091814331)),\n",
       " ('cedar', np.float64(-0.17259401232639185)),\n",
       " ('laurel_leaves', np.float64(-0.17259401232639185)),\n",
       " ('pelargonium', np.float64(-0.17259401232639185)),\n",
       " ('smoked_salmon', np.float64(-0.16762408246060304)),\n",
       " ('coconut', np.float64(-0.1608985779566482)),\n",
       " ('wine', np.float64(-0.16049138274428196)),\n",
       " ('champagne', np.float64(-0.1590580231813282)),\n",
       " ('peppermint_oil', np.float64(-0.15890376983488647)),\n",
       " ('nutmeg', np.float64(-0.15863478962945066)),\n",
       " ('maple_syrup', np.float64(-0.15751778360557758)),\n",
       " ('soy_sauce', np.float64(-0.15387906147890723)),\n",
       " ('chili_pepper', np.float64(-0.15279714517006462)),\n",
       " ('roasted_sesame_seed', np.float64(-0.15236271612603114)),\n",
       " ('yoghurt', np.float64(-0.15088030768890354)),\n",
       " ('anise', np.float64(-0.14866729788498315)),\n",
       " ('concord_grape', np.float64(-0.1481028763223506)),\n",
       " ('beer', np.float64(-0.14628910679138607)),\n",
       " ('betel', np.float64(-0.1418180563922067)),\n",
       " ('prickly_pear', np.float64(-0.14072245730153224)),\n",
       " ('guava', np.float64(-0.14026332346889836)),\n",
       " ('mutton', np.float64(-0.1394621062685837)),\n",
       " ('beef_liver', np.float64(-0.1394621062685837)),\n",
       " ('salmon_roe', np.float64(-0.1374858960190848)),\n",
       " ('lemongrass', np.float64(-0.13366269204357387)),\n",
       " ('sesame_oil', np.float64(-0.1314091814631183)),\n",
       " ('roasted_almonds', np.float64(-0.12531825602835103)),\n",
       " ('white_grape', np.float64(-0.12482499076123704)),\n",
       " ('fusel', np.float64(-0.12459231112152545)),\n",
       " ('silk', np.float64(-0.12367422128596064)),\n",
       " ('macaroni', np.float64(-0.12318011967144295)),\n",
       " ('spearmint', np.float64(-0.12180641652372298)),\n",
       " ('roasted_pecan', np.float64(-0.12167520654894039)),\n",
       " ('roasted_nut', np.float64(-0.12167520654894039)),\n",
       " ('corn_grit', np.float64(-0.12136590654289313)),\n",
       " ('star_anise', np.float64(-0.12101314995789228)),\n",
       " ('wheat_bread', np.float64(-0.12075632103603734)),\n",
       " ('cassia', np.float64(-0.11943435372638807)),\n",
       " ('peppermint', np.float64(-0.11370293344276103)),\n",
       " ('ginger', np.float64(-0.11316872293740411)),\n",
       " ('soybean_oil', np.float64(-0.11042098673995134)),\n",
       " ('lingonberry', np.float64(-0.10910912826219102)),\n",
       " ('frankfurters', np.float64(-0.10429793176379577)),\n",
       " ('coconut_oil', np.float64(-0.10295464986603597)),\n",
       " ('roasted_beef', np.float64(-0.1021534234842199)),\n",
       " ('bartlett_pear', np.float64(-0.10063574826430603)),\n",
       " ('rye_flour', np.float64(-0.10001376421496484)),\n",
       " ('oatmeal', np.float64(-0.09989015363220323)),\n",
       " ('wheat_flour', np.float64(-0.09870009681939913)),\n",
       " ('guanabana', np.float64(-0.09825192200309056)),\n",
       " ('pork_liver', np.float64(-0.09803303044205897)),\n",
       " ('red_kidney_bean', np.float64(-0.09729798006200392)),\n",
       " ('cassis', np.float64(-0.09509230770241205)),\n",
       " ('black_tea', np.float64(-0.09393529783215414)),\n",
       " ('muscat_grape', np.float64(-0.0894442787390761)),\n",
       " ('citrus_fruit', np.float64(-0.0894442787390761)),\n",
       " ('black_raspberry', np.float64(-0.0894442787390761)),\n",
       " ('morello_cherry', np.float64(-0.0894442787390761)),\n",
       " ('soy', np.float64(-0.08790125028518797)),\n",
       " ('garlic_mustard', np.float64(-0.08504038633928698)),\n",
       " ('vervain', np.float64(-0.08504038633928698)),\n",
       " ('bitter_orange', np.float64(-0.08421806138272515)),\n",
       " ('sour_milk', np.float64(-0.08415322670831712)),\n",
       " ('litchi', np.float64(-0.08193806543782464)),\n",
       " ('carnation', np.float64(-0.07997495447470308)),\n",
       " ('geranium', np.float64(-0.07997495447470308)),\n",
       " ('pear_brandy', np.float64(-0.06670017770247327)),\n",
       " ('potato_chips', np.float64(-0.06505890960866527)),\n",
       " ('tabasco_pepper', np.float64(-0.06435245339705864)),\n",
       " ('caraway', np.float64(-0.060026745216216135)),\n",
       " ('anise_seed', np.float64(-0.0575622870140231)),\n",
       " ('soursop', np.float64(-0.05523716073348678)),\n",
       " ('jasmine_tea', np.float64(-0.050520970082720974)),\n",
       " ('balm', np.float64(-0.04798219510449366)),\n",
       " ('cognac', np.float64(-0.042384930946483455)),\n",
       " ('swiss_cheese', np.float64(-0.04041493439615107)),\n",
       " ('herring', np.float64(-0.03877799646808961)),\n",
       " ('cinnamon', np.float64(-0.03717312512181309)),\n",
       " ('mace', np.float64(-0.03430542574095213)),\n",
       " ('whisky', np.float64(-0.019684737741173082)),\n",
       " ('milk_fat', np.float64(-0.008645761167756422)),\n",
       " ('apple_brandy', np.float64(0.0014095831555601018)),\n",
       " ('wheat_bran', np.float64(0.0018748140166834782)),\n",
       " ('roquefort_cheese', np.float64(0.0025030596173037916)),\n",
       " ('saffron', np.float64(0.003783628004149913)),\n",
       " ('cumin', np.float64(0.01872968399292185)),\n",
       " ('squash', np.float64(0.025377625774053007)),\n",
       " ('dried_mushroom', np.float64(0.028949442919917308)),\n",
       " ('camembert_cheese', np.float64(0.0331777752633725)),\n",
       " ('emmenthal_cheese', np.float64(0.034419649962565725)),\n",
       " ('soy_bean', np.float64(0.048354121449574905)),\n",
       " ('beet', np.float64(0.04914765246620795)),\n",
       " ('green_pea', np.float64(0.05233392501038932)),\n",
       " ('fenugreek', np.float64(0.059031128454610726)),\n",
       " ('sweet_corn', np.float64(0.06498692554008484)),\n",
       " ('fermented_soybean', np.float64(0.07646938055201459)),\n",
       " ('turmeric', np.float64(0.08726795708510775)),\n",
       " ('cardamom', np.float64(0.08913686468461242)),\n",
       " ('potatoes', np.float64(0.10565512923617512)),\n",
       " ('leek', np.float64(0.10679870062184381)),\n",
       " ('potato', np.float64(0.10823742861063491)),\n",
       " ('green_bell_pepper', np.float64(0.1154284492615982)),\n",
       " ('asparagus', np.float64(0.11689850636750874)),\n",
       " ('cucumber', np.float64(0.11760456741387534)),\n",
       " ('broccoli', np.float64(0.12086379446845748)),\n",
       " ('brussels_sprout', np.float64(0.12318876878265048)),\n",
       " ('artichoke', np.float64(0.12558215434763206)),\n",
       " ('pumpkin', np.float64(0.13391665322727442)),\n",
       " ('tomato', np.float64(0.136146975951367)),\n",
       " ('carrot', np.float64(0.14116189002326057)),\n",
       " ('onion', np.float64(0.1430366430105719)),\n",
       " ('kale', np.float64(0.14404925936456067)),\n",
       " ('garlic', np.float64(0.15328913557086907)),\n",
       " ('cabbage', np.float64(0.15491862432274864)),\n",
       " ('bell_pepper', np.float64(0.1571464470619132)),\n",
       " ('celery', np.float64(0.15982220793405513)),\n",
       " ('mushroom', np.float64(0.18669389692456848))]"
      ]
     },
     "execution_count": 31,
     "metadata": {},
     "output_type": "execute_result"
    }
   ],
   "source": [
    "sorted(list(zip(ingredient_list, sample_sils)), key=lambda x: x[1])"
   ]
  },
  {
   "cell_type": "code",
   "execution_count": 32,
   "id": "f1daa4b2",
   "metadata": {},
   "outputs": [
    {
     "name": "stdout",
     "output_type": "stream",
     "text": [
      "Ingredient type silhouette score: -0.19894539431848776\n"
     ]
    }
   ],
   "source": [
    "i_sil_score = np.mean(sample_sils)\n",
    "\n",
    "print('Ingredient type silhouette score:', i_sil_score)"
   ]
  },
  {
   "cell_type": "markdown",
   "id": "c228fc8b",
   "metadata": {},
   "source": [
    "## Cuisine type evaluation:"
   ]
  },
  {
   "cell_type": "code",
   "execution_count": 33,
   "id": "96f05c7f",
   "metadata": {},
   "outputs": [],
   "source": [
    "metric = 'euclidean'\n",
    "method = 'ward'\n",
    "ind_to_id = np.array(cuisine_list)\n",
    "Z = linkage(is_c_vectors.loc[ind_to_id, ingredient_list], metric=metric, method=method) ####### linkage\n"
   ]
  },
  {
   "cell_type": "code",
   "execution_count": 34,
   "id": "dc55ff5a",
   "metadata": {},
   "outputs": [],
   "source": [
    "# ind_to_cuisine_dict = {'Vietnamese': 'SE_Asia',\n",
    "#  'Indian': 'S_Asia_Middle_East',\n",
    "#  'French': 'N_Europe',\n",
    "#  'Jewish': 'N_Europe',\n",
    "#  'Spanish_Portuguese': 'S_Europe',\n",
    "#  'Central_SouthAmerican': 'South_America',\n",
    "#  'Cajun_Creole': 'North_America',\n",
    "#  'Thai': 'SE_Asia',\n",
    "#  'Scandinavian': 'N_Europe',\n",
    "#  'Greek': 'S_Europe',\n",
    "#  'American': 'North_America',\n",
    "#  'African': 'Africa',\n",
    "#  'MiddleEastern': 'S_Asia_Middle_East',\n",
    "#  'EasternEuropean_Russian': 'N_Europe',\n",
    "#  'Italian': 'S_Europe',\n",
    "#  'Irish': 'N_Europe',\n",
    "#  'Mexican': 'North_America',\n",
    "#  'Chinese': 'E_Asia',\n",
    "#  'German': 'N_Europe',\n",
    "#  'Mediterranean': 'S_Europe',\n",
    "#  'Japanese': 'E_Asia',\n",
    "#  'Moroccan': 'Africa',\n",
    "#  'Southern_SoulFood': 'North_America',\n",
    "#  'English_Scottish': 'N_Europe',\n",
    "#  'Asian': 'E_Asia',\n",
    "#  'Southwestern': 'North_America'}\n"
   ]
  },
  {
   "cell_type": "code",
   "execution_count": 35,
   "id": "2688f7df",
   "metadata": {},
   "outputs": [],
   "source": [
    "# pd.DataFrame.from_dict(ind_to_cuisine_dict, orient='index', columns=['geo_label']).reset_index().rename(columns={'index': 'cuisine_type'}).to_csv('../data/recipe/cuisine_geo_labels.csv', index=False)"
   ]
  },
  {
   "cell_type": "code",
   "execution_count": 36,
   "id": "66e81985",
   "metadata": {},
   "outputs": [],
   "source": [
    "ind_to_cuisine_dict = pd.read_csv('../data/recipe/cuisine_geo_labels.csv').set_index('cuisine_type').geo_label.to_dict()"
   ]
  },
  {
   "cell_type": "code",
   "execution_count": 37,
   "id": "cc616b55",
   "metadata": {},
   "outputs": [],
   "source": [
    "ind_to_cuisinetype = [ind_to_cuisine_dict.get(i) for i in ind_to_id]\n",
    "sil_labels = ind_to_cuisinetype"
   ]
  },
  {
   "cell_type": "code",
   "execution_count": 38,
   "id": "8a3a483e",
   "metadata": {},
   "outputs": [],
   "source": [
    "sample_sils = silhouette_samples(is_c_vectors.loc[ind_to_id, ingredient_list], \\\n",
    "                                 metric=metric, labels=sil_labels)"
   ]
  },
  {
   "cell_type": "code",
   "execution_count": 39,
   "id": "d873a398",
   "metadata": {},
   "outputs": [
    {
     "data": {
      "text/plain": [
       "[('Mexican', np.float64(-0.6524540769332318)),\n",
       " ('MiddleEastern', np.float64(-0.5258376861966076)),\n",
       " ('Southwestern', np.float64(-0.4389084132975541)),\n",
       " ('American', np.float64(-0.22382994872814202)),\n",
       " ('Indian', np.float64(-0.1568461700865158)),\n",
       " ('Southern_SoulFood', np.float64(-0.12409381046265405)),\n",
       " ('Cajun_Creole', np.float64(-0.04496057795260809)),\n",
       " ('Central_SouthAmerican', np.float64(0.0)),\n",
       " ('Jewish', np.float64(0.10199287361851955)),\n",
       " ('French', np.float64(0.14031026330163157)),\n",
       " ('German', np.float64(0.18934436568575289)),\n",
       " ('Spanish_Portuguese', np.float64(0.2094902262963695)),\n",
       " ('Irish', np.float64(0.2416716432001211)),\n",
       " ('Scandinavian', np.float64(0.26552487295597643)),\n",
       " ('African', np.float64(0.27926940586833277)),\n",
       " ('EasternEuropean_Russian', np.float64(0.29059005809602645)),\n",
       " ('Asian', np.float64(0.2909902860345956)),\n",
       " ('English_Scottish', np.float64(0.3057195563519842)),\n",
       " ('Italian', np.float64(0.3771696214517942)),\n",
       " ('Greek', np.float64(0.3781791299691201)),\n",
       " ('Mediterranean', np.float64(0.39888971252654304)),\n",
       " ('Moroccan', np.float64(0.4048105920496736)),\n",
       " ('Thai', np.float64(0.40987705674008335)),\n",
       " ('Japanese', np.float64(0.413105751474697)),\n",
       " ('Vietnamese', np.float64(0.448218014483183)),\n",
       " ('Chinese', np.float64(0.4636631602946876))]"
      ]
     },
     "execution_count": 39,
     "metadata": {},
     "output_type": "execute_result"
    }
   ],
   "source": [
    "sorted(list(zip(ind_to_id, sample_sils)), key=lambda x:x[1])"
   ]
  },
  {
   "cell_type": "code",
   "execution_count": 40,
   "id": "8db5c02e",
   "metadata": {},
   "outputs": [
    {
     "name": "stdout",
     "output_type": "stream",
     "text": [
      "Cuisine type silhouette score: 0.13238022718237608\n"
     ]
    }
   ],
   "source": [
    "c_sil_score = np.mean(sample_sils)\n",
    "print('Cuisine type silhouette score:', c_sil_score)"
   ]
  },
  {
   "cell_type": "markdown",
   "id": "924f786c",
   "metadata": {},
   "source": [
    "## Null models:"
   ]
  },
  {
   "cell_type": "code",
   "execution_count": 41,
   "id": "9e3b0cb9",
   "metadata": {},
   "outputs": [],
   "source": [
    "# initialise the necessary matrices for the recipe-ingredient and recipe-cuisine networks\n",
    "\n",
    "a_RC_coo, recipe_row, cuisine_col = bipartite_cooarray( \\\n",
    "    df=meta_df.sort_values(['r_id', 'cuisine']), \\\n",
    "    row_col=['r_id', 'cuisine'], \\\n",
    "    weight=False, \\\n",
    "    row_order=list(recipe_list), \\\n",
    "    col_order=list(cuisine_list))\n",
    "\n",
    "a_RI_coo, recipe_row, ingredient_col = bipartite_cooarray( \\\n",
    "        df=rn_df.sort_values(['r_id', 'ingredient']), \\\n",
    "        row_col=['r_id', 'ingredient'], \\\n",
    "        weight=False, \\\n",
    "        row_order=list(recipe_list), \\\n",
    "        col_order=list(ingredient_list))\n"
   ]
  },
  {
   "cell_type": "code",
   "execution_count": 42,
   "id": "35c72e78",
   "metadata": {},
   "outputs": [],
   "source": [
    "# randomised cuisine nulls:\n",
    "seeds= np.arange(1000)\n",
    "\n",
    "# typelist = meta_df_bpt.type.unique()\n",
    "continent_labels = [ind_to_cuisine_dict.get(i) for i in cuisine_list]\n",
    "ingredient_labels = [ingredient_type_dict.get(i) for i in ingredient_list]\n",
    "\n",
    "RCshuff_is_c_sil_means = []\n",
    "RCshuff_cs_i_sil_means = []\n",
    "\n",
    "for seed in seeds:\n",
    "    output = rn_RCshuff_wrapper(\n",
    "        seed=seed, \\\n",
    "        a_RI_coo=a_RI_coo, \\\n",
    "        meta_df=meta_df, \\\n",
    "        recipe_list=recipe_list, \\\n",
    "        cuisine_list=cuisine_list, \\\n",
    "        ingredient_col=ingredient_col)\n",
    "    \n",
    "    norm_is_c_vec_df_RCshuff, cnorm_cs_i_bpt_df_RCshuff = output\n",
    "\n",
    "    # both identity preserving nulls:\n",
    "    RC_shuff_is_c_null_sils = silhouette_samples(norm_is_c_vec_df_RCshuff.loc[cuisine_list, ingredient_list], \\\n",
    "                                    metric=metric, labels=continent_labels)\n",
    "    RC_shuff_cs_i_null_sils = silhouette_samples(cnorm_cs_i_bpt_df_RCshuff.loc[ingredient_list], \\\n",
    "                                 metric=metric, labels=ingredient_labels)\n",
    "\n",
    "    RCshuff_is_c_sil_means.append(np.mean(RC_shuff_is_c_null_sils))\n",
    "    RCshuff_cs_i_sil_means.append(np.mean(RC_shuff_cs_i_null_sils))\n",
    "\n",
    "# ~40s"
   ]
  },
  {
   "cell_type": "code",
   "execution_count": 43,
   "id": "a7d9a227",
   "metadata": {},
   "outputs": [],
   "source": [
    "# randomised recipe nulls:\n",
    "seeds = np.arange(1000)\n",
    "continent_labels = [ind_to_cuisine_dict.get(i) for i in cuisine_list]\n",
    "ingredient_labels = [ingredient_type_dict.get(i) for i in ingredient_list]\n",
    "\n",
    "RIshuff_is_c_sil_means = []\n",
    "RIshuff_cs_i_sil_means = []\n",
    "\n",
    "for seed in seeds:\n",
    "    \n",
    "    output = rn_RIshuff_wrapper(\n",
    "        seed=seed, \\\n",
    "        a_RC_coo=a_RC_coo, \\\n",
    "        rn_df=rn_df, \\\n",
    "        recipe_list=recipe_list, \\\n",
    "        cuisine_list=cuisine_list, \\\n",
    "        ingredient_list=ingredient_list)\n",
    "    norm_is_c_vec_df_RIshuff, cnorm_cs_i_bpt_df_RIshuff = output # an instance of a shuffled vectors\n",
    "\n",
    "    # calculate the silhouette scores for the shuffled vectors:\n",
    "    RI_shuff_is_c_null_sils = silhouette_samples(norm_is_c_vec_df_RIshuff.loc[cuisine_list, ingredient_list], \\\n",
    "                                    metric=metric, labels=continent_labels)\n",
    "    RI_shuff_cs_i_null_sils = silhouette_samples(cnorm_cs_i_bpt_df_RIshuff.loc[ingredient_list], \\\n",
    "                                 metric=metric, labels=ingredient_labels)\n",
    "\n",
    "    RIshuff_is_c_sil_means.append(np.mean(RI_shuff_is_c_null_sils))\n",
    "    RIshuff_cs_i_sil_means.append(np.mean(RI_shuff_cs_i_null_sils))\n",
    "\n",
    "# ~2min 35s"
   ]
  },
  {
   "cell_type": "code",
   "execution_count": 44,
   "id": "5b0be311",
   "metadata": {},
   "outputs": [
    {
     "data": {
      "image/png": "[encoded data removed]",
      "text/plain": [
       "<Figure size 550x200 with 2 Axes>"
      ]
     },
     "metadata": {},
     "output_type": "display_data"
    }
   ],
   "source": [
    "fig, ax = plt.subplots(1, 2, figsize=(5.5,2), layout='constrained',)\n",
    "\n",
    "pbound = 1/len(seeds)\n",
    "\n",
    "test_x =c_sil_score\n",
    "ys = np.arange(7)\n",
    "ax[0].hist(RCshuff_is_c_sil_means, color='grey', fill=True, density=True, bins=20, label='null')\n",
    "ax[0].plot([test_x for y in ys], ys, 'r--',  label='data')\n",
    "addtext = rf'$p < {pbound}$'\n",
    "# addtext = f'$s={test_x:.2f}$\\n$p < {pbound}$'\n",
    "\n",
    "ax[0].text(test_x, ys[-1], addtext, horizontalalignment='right', verticalalignment='bottom', color='red', size=15)\n",
    "ax[0].legend(prop={'size':13})\n",
    "ax[0].set_xlim(-0.2, 0.2)\n",
    "ax[0].set_ylabel('Density', size=18,)\n",
    "sns.despine(offset=3, trim=True, ax=ax[0])\n",
    "\n",
    "\n",
    "test_x =c_sil_score\n",
    "ys = np.arange(7)\n",
    "ax[1].hist(RIshuff_is_c_sil_means, color='grey', fill=True, density=True, bins=20, label='null') # #5A7CA8\n",
    "ax[1].plot([test_x for y in ys], ys, 'r--',  label='data')\n",
    "addtext = rf'$p < {pbound}$'\n",
    "# addtext = f'$s={test_x:.2f}$\\n$p < {pbound}$'\n",
    "\n",
    "ax[1].text(test_x, ys[-1], addtext, horizontalalignment='right', verticalalignment='bottom', color='red', size=15)\n",
    "ax[1].legend(prop={'size':13})\n",
    "ax[1].set_xlim(-0.2, 0.2)\n",
    "sns.despine(offset=3, trim=True, ax=ax[1])\n",
    "\n",
    "\n",
    "\n",
    "# fig.supylabel('Density', size=18)\n",
    "fig.supxlabel('Silhouette score', size=25)\n",
    "# plt.tight_layout()\n",
    "# save_things=False\n",
    "if save_things:\n",
    "    plt.savefig(rn_fig_dir / f'f3b_recipe_silhouette_nulls.png', dpi=300, bbox_inches='tight',  transparent=True)\n",
    "    plt.savefig(rn_fig_dir / f'f3b_recipe_silhouette_nulls.pdf', dpi=300, bbox_inches='tight', transparent=True)  \n",
    "plt.show()"
   ]
  },
  {
   "cell_type": "code",
   "execution_count": 45,
   "id": "a9cdefe3",
   "metadata": {},
   "outputs": [
    {
     "data": {
      "image/png": "[encoded data removed]",
      "text/plain": [
       "<Figure size 550x200 with 2 Axes>"
      ]
     },
     "metadata": {},
     "output_type": "display_data"
    }
   ],
   "source": [
    "fig, ax = plt.subplots(1, 2, figsize=(5.5,2), layout='constrained',)\n",
    "\n",
    "pbound = 1/len(seeds)\n",
    "\n",
    "\n",
    "\n",
    "output = np.histogram(RCshuff_cs_i_sil_means, bins=20)\n",
    "test_x =i_sil_score\n",
    "ys = np.arange(10) \n",
    "ax[0].hist(RCshuff_cs_i_sil_means, color='grey', fill=True, density=True, bins=20, label='null') # #F88E86\n",
    "ax[0].plot([test_x for y in ys], ys, 'r--',  label='data')\n",
    "addtext = rf'$p < {pbound}$'\n",
    "# addtext = f'$s={test_x:.2f}$\\n$p < {pbound}$'\n",
    "ax[0].set_ylabel('Density', size=18,)\n",
    "\n",
    "ax[0].text(test_x, ys[-1], addtext, horizontalalignment='right', verticalalignment='bottom', color='red', size=15)\n",
    "ax[0].legend(prop={'size':13})\n",
    "ax[0].set_xlim(-0.31, -0.18)\n",
    "ax[0].set_xticks([-0.3, -0.25, -0.2])\n",
    "sns.despine(offset=3, trim=True, ax=ax[0])\n",
    "\n",
    "\n",
    "output = np.histogram(RIshuff_cs_i_sil_means, bins=20)\n",
    "test_x =i_sil_score\n",
    "ys = np.arange(10)\n",
    "ax[1].hist(RIshuff_cs_i_sil_means, color='grey', fill=True, density=True, bins=20, label='null')\n",
    "ax[1].plot([test_x for y in ys], ys, 'r--',  label='data')\n",
    "addtext = rf'$p < {pbound}$'\n",
    "# addtext = f'$s={test_x:.2f}$\\n$p < {pbound}$'\n",
    "\n",
    "ax[1].text(test_x, ys[-1], addtext, horizontalalignment='right', verticalalignment='bottom', color='red', size=15,)\n",
    "ax[1].legend(prop={'size':13})\n",
    "ax[1].set_xlim(-0.31, -0.19)\n",
    "ax[1].set_xticks([-0.3, -0.25, -0.2])\n",
    "\n",
    "sns.despine(offset=3, trim=True, ax=ax[1])\n",
    "fig.supxlabel('Silhouette score', size=25)\n",
    "if save_things:\n",
    "    plt.savefig(rn_fig_dir / f'f2d_recipe_silhouette_nulls.png', dpi=300, bbox_inches='tight', transparent=True)\n",
    "    plt.savefig(rn_fig_dir / f'f2d_recipe_silhouette_nulls.pdf', dpi=300, bbox_inches='tight', transparent=True)  \n",
    "plt.show()"
   ]
  }
 ],
 "metadata": {
  "kernelspec": {
   "display_name": "vectorisation_env",
   "language": "python",
   "name": "python3"
  },
  "language_info": {
   "codemirror_mode": {
    "name": "ipython",
    "version": 3
   },
   "file_extension": ".py",
   "mimetype": "text/x-python",
   "name": "python",
   "nbconvert_exporter": "python",
   "pygments_lexer": "ipython3",
   "version": "3.9.22"
  }
 },
 "nbformat": 4,
 "nbformat_minor": 5
}
